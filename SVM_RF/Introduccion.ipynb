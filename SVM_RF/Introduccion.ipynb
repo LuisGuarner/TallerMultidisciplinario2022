{
  "nbformat": 4,
  "nbformat_minor": 0,
  "metadata": {
    "colab": {
      "name": "Introduccion.ipynb",
      "provenance": [],
      "collapsed_sections": []
    },
    "kernelspec": {
      "name": "ir",
      "display_name": "R"
    },
    "language_info": {
      "name": "R"
    }
  },
  "cells": [
    {
      "cell_type": "markdown",
      "source": [
        "#**Ejemplo de código en R**"
      ],
      "metadata": {
        "id": "QrVsHSLUW5Be"
      }
    },
    {
      "cell_type": "markdown",
      "source": [
        "# **Instalación de librerías**"
      ],
      "metadata": {
        "id": "fYRd_IenWuHg"
      }
    },
    {
      "cell_type": "markdown",
      "source": [
        "**Instalación de librerías**\n",
        "Paso 1. Revisar la versión de R instadala"
      ],
      "metadata": {
        "id": "t_rXHUlKKnaj"
      }
    },
    {
      "cell_type": "code",
      "execution_count": null,
      "metadata": {
        "colab": {
          "base_uri": "https://localhost:8080/",
          "height": 34
        },
        "id": "kT-X0hlKjNPT",
        "outputId": "c7feb803-2147-47e7-e2d6-5f0a28d6e107"
      },
      "outputs": [
        {
          "output_type": "display_data",
          "data": {
            "text/html": [
              "'R version 4.2.1 (2022-06-23)'"
            ],
            "text/markdown": "'R version 4.2.1 (2022-06-23)'",
            "text/latex": "'R version 4.2.1 (2022-06-23)'",
            "text/plain": [
              "[1] \"R version 4.2.1 (2022-06-23)\""
            ]
          },
          "metadata": {}
        }
      ],
      "source": [
        "R.version.string"
      ]
    },
    {
      "cell_type": "markdown",
      "source": [
        "Revisión de librerías instaladas"
      ],
      "metadata": {
        "id": "NVF9M4QEKCPH"
      }
    },
    {
      "cell_type": "code",
      "source": [
        "print(installed.packages())"
      ],
      "metadata": {
        "id": "edJ-F_hDKFGT"
      },
      "execution_count": null,
      "outputs": []
    },
    {
      "cell_type": "code",
      "source": [
        "install.packages(\"caret\")\n",
        "install.packages(\"lda\")\n",
        "install.packages(\"rattle\")\n",
        "install.packages(\"RCurl\")\n",
        "install.packages(\"googledrive\") #only need to install occasionally install.packages(“httpuv”) \n",
        "install.packages(\"httpuv\")\n",
        "install.packages(\"tidyverse\")\n",
        "install.packages(\"ggplot2\")\n",
        "install.packages(\"doMC\")\n",
        "install.packages(\"kernlab\")"
      ],
      "metadata": {
        "colab": {
          "base_uri": "https://localhost:8080/"
        },
        "id": "rLUmSJR14eD3",
        "outputId": "8f557aa9-d96b-48f2-8d79-5c1f39dbc56b"
      },
      "execution_count": null,
      "outputs": [
        {
          "output_type": "stream",
          "name": "stderr",
          "text": [
            "Installing package into ‘/usr/local/lib/R/site-library’\n",
            "(as ‘lib’ is unspecified)\n",
            "\n",
            "also installing the dependencies ‘listenv’, ‘parallelly’, ‘future’, ‘globals’, ‘future.apply’, ‘progressr’, ‘numDeriv’, ‘SQUAREM’, ‘lava’, ‘prodlim’, ‘proxy’, ‘iterators’, ‘Rcpp’, ‘gower’, ‘hardhat’, ‘ipred’, ‘timeDate’, ‘e1071’, ‘foreach’, ‘ModelMetrics’, ‘plyr’, ‘pROC’, ‘recipes’, ‘reshape2’\n",
            "\n",
            "\n",
            "Installing package into ‘/usr/local/lib/R/site-library’\n",
            "(as ‘lib’ is unspecified)\n",
            "\n",
            "Installing package into ‘/usr/local/lib/R/site-library’\n",
            "(as ‘lib’ is unspecified)\n",
            "\n",
            "also installing the dependencies ‘bitops’, ‘XML’, ‘rpart.plot’\n",
            "\n",
            "\n",
            "Installing package into ‘/usr/local/lib/R/site-library’\n",
            "(as ‘lib’ is unspecified)\n",
            "\n",
            "Installing package into ‘/usr/local/lib/R/site-library’\n",
            "(as ‘lib’ is unspecified)\n",
            "\n",
            "Installing package into ‘/usr/local/lib/R/site-library’\n",
            "(as ‘lib’ is unspecified)\n",
            "\n",
            "also installing the dependencies ‘promises’, ‘later’\n",
            "\n",
            "\n",
            "Installing package into ‘/usr/local/lib/R/site-library’\n",
            "(as ‘lib’ is unspecified)\n",
            "\n",
            "Installing package into ‘/usr/local/lib/R/site-library’\n",
            "(as ‘lib’ is unspecified)\n",
            "\n",
            "Installing package into ‘/usr/local/lib/R/site-library’\n",
            "(as ‘lib’ is unspecified)\n",
            "\n",
            "Installing package into ‘/usr/local/lib/R/site-library’\n",
            "(as ‘lib’ is unspecified)\n",
            "\n"
          ]
        }
      ]
    },
    {
      "cell_type": "markdown",
      "source": [
        "# Cargando las librerías a utilizar"
      ],
      "metadata": {
        "id": "RDuaUyLjK6X2"
      }
    },
    {
      "cell_type": "code",
      "source": [
        "library(dplyr)\n",
        "library(caret)\n",
        "library(lda)\n",
        "library(rattle)\n",
        "library(tidyverse)\n",
        "library(readr) \n",
        "library(ggplot2)\n",
        "library(doMC)\n",
        "\n"
      ],
      "metadata": {
        "id": "q4YJkfjWkCbk",
        "colab": {
          "base_uri": "https://localhost:8080/"
        },
        "outputId": "2600481e-7994-4e36-f6e8-518eaaea7115"
      },
      "execution_count": null,
      "outputs": [
        {
          "output_type": "stream",
          "name": "stderr",
          "text": [
            "Loading required package: ggplot2\n",
            "\n",
            "Loading required package: lattice\n",
            "\n",
            "Warning message in system(\"timedatectl\", intern = TRUE):\n",
            "“running command 'timedatectl' had status 1”\n",
            "Loading required package: tibble\n",
            "\n",
            "Loading required package: bitops\n",
            "\n",
            "Rattle: A free graphical interface for data science with R.\n",
            "Version 5.5.1 Copyright (c) 2006-2021 Togaware Pty Ltd.\n",
            "Type 'rattle()' to shake, rattle, and roll your data.\n",
            "\n",
            "── \u001b[1mAttaching packages\u001b[22m ─────────────────────────────────────── tidyverse 1.3.2 ──\n",
            "\u001b[32m✔\u001b[39m \u001b[34mtidyr  \u001b[39m 1.2.0     \u001b[32m✔\u001b[39m \u001b[34mstringr\u001b[39m 1.4.0\n",
            "\u001b[32m✔\u001b[39m \u001b[34mreadr  \u001b[39m 2.1.2     \u001b[32m✔\u001b[39m \u001b[34mforcats\u001b[39m 0.5.1\n",
            "\u001b[32m✔\u001b[39m \u001b[34mpurrr  \u001b[39m 0.3.4     \n",
            "── \u001b[1mConflicts\u001b[22m ────────────────────────────────────────── tidyverse_conflicts() ──\n",
            "\u001b[31m✖\u001b[39m \u001b[34mdplyr\u001b[39m::\u001b[32mfilter()\u001b[39m masks \u001b[34mstats\u001b[39m::filter()\n",
            "\u001b[31m✖\u001b[39m \u001b[34mdplyr\u001b[39m::\u001b[32mlag()\u001b[39m    masks \u001b[34mstats\u001b[39m::lag()\n",
            "\u001b[31m✖\u001b[39m \u001b[34mpurrr\u001b[39m::\u001b[32mlift()\u001b[39m   masks \u001b[34mcaret\u001b[39m::lift()\n",
            "Loading required package: foreach\n",
            "\n",
            "\n",
            "Attaching package: ‘foreach’\n",
            "\n",
            "\n",
            "The following objects are masked from ‘package:purrr’:\n",
            "\n",
            "    accumulate, when\n",
            "\n",
            "\n",
            "Loading required package: iterators\n",
            "\n",
            "Loading required package: parallel\n",
            "\n"
          ]
        }
      ]
    },
    {
      "cell_type": "markdown",
      "source": [
        "La librería \"caret\" no se encuentra instalada por default en R, por lo que es neceario realizar su instalación.\n",
        "Con el comando **install.packages(\"caret\")**  se realizará la compilación e instalación de la misma en el sistema."
      ],
      "metadata": {
        "id": "955DGw8AK9xz"
      }
    },
    {
      "cell_type": "markdown",
      "source": [
        "# Load Data From CSV\n",
        "Este ejemplo muestra como cargar un archivo csv de un directorio local."
      ],
      "metadata": {
        "id": "fpae1aCHT6lw"
      }
    },
    {
      "cell_type": "markdown",
      "source": [
        "Primero verificamos en que directorio nos encontramos:"
      ],
      "metadata": {
        "id": "bLei6nh_XvYS"
      }
    },
    {
      "cell_type": "code",
      "source": [
        "#getwd()"
      ],
      "metadata": {
        "colab": {
          "base_uri": "https://localhost:8080/",
          "height": 34
        },
        "id": "V4j_Xk51bskA",
        "outputId": "d059372b-55fc-4596-97da-0c42b7f90178"
      },
      "execution_count": null,
      "outputs": [
        {
          "output_type": "display_data",
          "data": {
            "text/html": [
              "'/content'"
            ],
            "text/markdown": "'/content'",
            "text/latex": "'/content'",
            "text/plain": [
              "[1] \"/content\""
            ]
          },
          "metadata": {}
        }
      ]
    },
    {
      "cell_type": "code",
      "source": [
        "\n",
        "#datos <- read.csv(file = 'datav3.csv', sep = ',')\n",
        "datos <- read.csv('sample_data/datav3.csv') \n"
      ],
      "metadata": {
        "colab": {
          "base_uri": "https://localhost:8080/",
          "height": 306
        },
        "id": "uchmKH6ib4cB",
        "outputId": "9d3889a1-b454-4489-d9b6-3daf49534299"
      },
      "execution_count": null,
      "outputs": [
        {
          "output_type": "display_data",
          "data": {
            "text/html": [
              "<table class=\"dataframe\">\n",
              "<caption>A data.frame: 6 × 25</caption>\n",
              "<thead>\n",
              "\t<tr><th></th><th scope=col>edad</th><th scope=col>sexo</th><th scope=col>fumador</th><th scope=col>alcoholismo</th><th scope=col>obesidad</th><th scope=col>hipertenso</th><th scope=col>enfermedad_renal</th><th scope=col>anemia</th><th scope=col>frecuencia_cardiaca</th><th scope=col>presion_sistolica</th><th scope=col>⋯</th><th scope=col>glucosa</th><th scope=col>creatinine</th><th scope=col>rest_ecf</th><th scope=col>old_peak</th><th scope=col>potasio_en_sangre</th><th scope=col>calcio_en_sangre</th><th scope=col>sodio_en_sangre</th><th scope=col>taquicardia_sinusal_ecg</th><th scope=col>ejection_fraction</th><th scope=col>result</th></tr>\n",
              "\t<tr><th></th><th scope=col>&lt;int&gt;</th><th scope=col>&lt;int&gt;</th><th scope=col>&lt;int&gt;</th><th scope=col>&lt;int&gt;</th><th scope=col>&lt;int&gt;</th><th scope=col>&lt;int&gt;</th><th scope=col>&lt;int&gt;</th><th scope=col>&lt;int&gt;</th><th scope=col>&lt;int&gt;</th><th scope=col>&lt;int&gt;</th><th scope=col>⋯</th><th scope=col>&lt;int&gt;</th><th scope=col>&lt;dbl&gt;</th><th scope=col>&lt;int&gt;</th><th scope=col>&lt;dbl&gt;</th><th scope=col>&lt;dbl&gt;</th><th scope=col>&lt;int&gt;</th><th scope=col>&lt;int&gt;</th><th scope=col>&lt;int&gt;</th><th scope=col>&lt;int&gt;</th><th scope=col>&lt;chr&gt;</th></tr>\n",
              "</thead>\n",
              "<tbody>\n",
              "\t<tr><th scope=row>1</th><td>24</td><td>1</td><td>1</td><td>1</td><td>1</td><td>1</td><td>1</td><td>1</td><td>60</td><td>66</td><td>⋯</td><td>97</td><td>3</td><td>1</td><td>3</td><td>3.7</td><td>10</td><td>135</td><td>70</td><td>44</td><td>si</td></tr>\n",
              "\t<tr><th scope=row>2</th><td>22</td><td>1</td><td>1</td><td>1</td><td>1</td><td>1</td><td>1</td><td>1</td><td>63</td><td>68</td><td>⋯</td><td>91</td><td>3</td><td>1</td><td>4</td><td>4.1</td><td> 9</td><td>144</td><td>70</td><td>43</td><td>si</td></tr>\n",
              "\t<tr><th scope=row>3</th><td>22</td><td>0</td><td>1</td><td>1</td><td>1</td><td>1</td><td>1</td><td>1</td><td>63</td><td>68</td><td>⋯</td><td>92</td><td>2</td><td>1</td><td>3</td><td>4.2</td><td>10</td><td>145</td><td>60</td><td>53</td><td>si</td></tr>\n",
              "\t<tr><th scope=row>4</th><td>28</td><td>0</td><td>1</td><td>1</td><td>1</td><td>1</td><td>1</td><td>1</td><td>62</td><td>66</td><td>⋯</td><td>98</td><td>2</td><td>1</td><td>2</td><td>5.0</td><td>11</td><td>141</td><td>70</td><td>42</td><td>si</td></tr>\n",
              "\t<tr><th scope=row>5</th><td>27</td><td>1</td><td>1</td><td>1</td><td>1</td><td>1</td><td>1</td><td>1</td><td>64</td><td>65</td><td>⋯</td><td>90</td><td>3</td><td>1</td><td>3</td><td>4.9</td><td> 9</td><td>140</td><td>65</td><td>48</td><td>si</td></tr>\n",
              "\t<tr><th scope=row>6</th><td>28</td><td>0</td><td>1</td><td>1</td><td>1</td><td>1</td><td>1</td><td>1</td><td>63</td><td>60</td><td>⋯</td><td>91</td><td>2</td><td>1</td><td>3</td><td>4.1</td><td> 9</td><td>139</td><td>64</td><td>58</td><td>si</td></tr>\n",
              "</tbody>\n",
              "</table>\n"
            ],
            "text/markdown": "\nA data.frame: 6 × 25\n\n| <!--/--> | edad &lt;int&gt; | sexo &lt;int&gt; | fumador &lt;int&gt; | alcoholismo &lt;int&gt; | obesidad &lt;int&gt; | hipertenso &lt;int&gt; | enfermedad_renal &lt;int&gt; | anemia &lt;int&gt; | frecuencia_cardiaca &lt;int&gt; | presion_sistolica &lt;int&gt; | ⋯ ⋯ | glucosa &lt;int&gt; | creatinine &lt;dbl&gt; | rest_ecf &lt;int&gt; | old_peak &lt;dbl&gt; | potasio_en_sangre &lt;dbl&gt; | calcio_en_sangre &lt;int&gt; | sodio_en_sangre &lt;int&gt; | taquicardia_sinusal_ecg &lt;int&gt; | ejection_fraction &lt;int&gt; | result &lt;chr&gt; |\n|---|---|---|---|---|---|---|---|---|---|---|---|---|---|---|---|---|---|---|---|---|---|\n| 1 | 24 | 1 | 1 | 1 | 1 | 1 | 1 | 1 | 60 | 66 | ⋯ | 97 | 3 | 1 | 3 | 3.7 | 10 | 135 | 70 | 44 | si |\n| 2 | 22 | 1 | 1 | 1 | 1 | 1 | 1 | 1 | 63 | 68 | ⋯ | 91 | 3 | 1 | 4 | 4.1 |  9 | 144 | 70 | 43 | si |\n| 3 | 22 | 0 | 1 | 1 | 1 | 1 | 1 | 1 | 63 | 68 | ⋯ | 92 | 2 | 1 | 3 | 4.2 | 10 | 145 | 60 | 53 | si |\n| 4 | 28 | 0 | 1 | 1 | 1 | 1 | 1 | 1 | 62 | 66 | ⋯ | 98 | 2 | 1 | 2 | 5.0 | 11 | 141 | 70 | 42 | si |\n| 5 | 27 | 1 | 1 | 1 | 1 | 1 | 1 | 1 | 64 | 65 | ⋯ | 90 | 3 | 1 | 3 | 4.9 |  9 | 140 | 65 | 48 | si |\n| 6 | 28 | 0 | 1 | 1 | 1 | 1 | 1 | 1 | 63 | 60 | ⋯ | 91 | 2 | 1 | 3 | 4.1 |  9 | 139 | 64 | 58 | si |\n\n",
            "text/latex": "A data.frame: 6 × 25\n\\begin{tabular}{r|lllllllllllllllllllll}\n  & edad & sexo & fumador & alcoholismo & obesidad & hipertenso & enfermedad\\_renal & anemia & frecuencia\\_cardiaca & presion\\_sistolica & ⋯ & glucosa & creatinine & rest\\_ecf & old\\_peak & potasio\\_en\\_sangre & calcio\\_en\\_sangre & sodio\\_en\\_sangre & taquicardia\\_sinusal\\_ecg & ejection\\_fraction & result\\\\\n  & <int> & <int> & <int> & <int> & <int> & <int> & <int> & <int> & <int> & <int> & ⋯ & <int> & <dbl> & <int> & <dbl> & <dbl> & <int> & <int> & <int> & <int> & <chr>\\\\\n\\hline\n\t1 & 24 & 1 & 1 & 1 & 1 & 1 & 1 & 1 & 60 & 66 & ⋯ & 97 & 3 & 1 & 3 & 3.7 & 10 & 135 & 70 & 44 & si\\\\\n\t2 & 22 & 1 & 1 & 1 & 1 & 1 & 1 & 1 & 63 & 68 & ⋯ & 91 & 3 & 1 & 4 & 4.1 &  9 & 144 & 70 & 43 & si\\\\\n\t3 & 22 & 0 & 1 & 1 & 1 & 1 & 1 & 1 & 63 & 68 & ⋯ & 92 & 2 & 1 & 3 & 4.2 & 10 & 145 & 60 & 53 & si\\\\\n\t4 & 28 & 0 & 1 & 1 & 1 & 1 & 1 & 1 & 62 & 66 & ⋯ & 98 & 2 & 1 & 2 & 5.0 & 11 & 141 & 70 & 42 & si\\\\\n\t5 & 27 & 1 & 1 & 1 & 1 & 1 & 1 & 1 & 64 & 65 & ⋯ & 90 & 3 & 1 & 3 & 4.9 &  9 & 140 & 65 & 48 & si\\\\\n\t6 & 28 & 0 & 1 & 1 & 1 & 1 & 1 & 1 & 63 & 60 & ⋯ & 91 & 2 & 1 & 3 & 4.1 &  9 & 139 & 64 & 58 & si\\\\\n\\end{tabular}\n",
            "text/plain": [
              "  edad sexo fumador alcoholismo obesidad hipertenso enfermedad_renal anemia\n",
              "1 24   1    1       1           1        1          1                1     \n",
              "2 22   1    1       1           1        1          1                1     \n",
              "3 22   0    1       1           1        1          1                1     \n",
              "4 28   0    1       1           1        1          1                1     \n",
              "5 27   1    1       1           1        1          1                1     \n",
              "6 28   0    1       1           1        1          1                1     \n",
              "  frecuencia_cardiaca presion_sistolica ⋯ glucosa creatinine rest_ecf old_peak\n",
              "1 60                  66                ⋯ 97      3          1        3       \n",
              "2 63                  68                ⋯ 91      3          1        4       \n",
              "3 63                  68                ⋯ 92      2          1        3       \n",
              "4 62                  66                ⋯ 98      2          1        2       \n",
              "5 64                  65                ⋯ 90      3          1        3       \n",
              "6 63                  60                ⋯ 91      2          1        3       \n",
              "  potasio_en_sangre calcio_en_sangre sodio_en_sangre taquicardia_sinusal_ecg\n",
              "1 3.7               10               135             70                     \n",
              "2 4.1                9               144             70                     \n",
              "3 4.2               10               145             60                     \n",
              "4 5.0               11               141             70                     \n",
              "5 4.9                9               140             65                     \n",
              "6 4.1                9               139             64                     \n",
              "  ejection_fraction result\n",
              "1 44                si    \n",
              "2 43                si    \n",
              "3 53                si    \n",
              "4 42                si    \n",
              "5 48                si    \n",
              "6 58                si    "
            ]
          },
          "metadata": {}
        }
      ]
    },
    {
      "cell_type": "markdown",
      "source": [
        "# Revisando el conjunto de datos"
      ],
      "metadata": {
        "id": "Dyrn70S7FNVa"
      }
    },
    {
      "cell_type": "code",
      "source": [
        "head(datos)"
      ],
      "metadata": {
        "id": "7c4KNIqoFQm1"
      },
      "execution_count": null,
      "outputs": []
    },
    {
      "cell_type": "code",
      "source": [
        "# Resumen del dataset\n",
        "glimpse(datos)"
      ],
      "metadata": {
        "id": "__8GvQHRFTCO"
      },
      "execution_count": null,
      "outputs": []
    },
    {
      "cell_type": "markdown",
      "source": [
        "# **Creando semillas**"
      ],
      "metadata": {
        "id": "Q3Apz-faWu1L"
      }
    },
    {
      "cell_type": "code",
      "source": [
        "\n",
        "set.seed(123)\n"
      ],
      "metadata": {
        "id": "0EiE9bujvFv4"
      },
      "execution_count": null,
      "outputs": []
    },
    {
      "cell_type": "markdown",
      "source": [
        "# Paralelización de procesos"
      ],
      "metadata": {
        "id": "dOVX1QqMxfSW"
      }
    },
    {
      "cell_type": "code",
      "source": [
        "# PARALELIZACIÓN DE PROCESO\n",
        "#===============================================================================\n",
        "\n",
        "registerDoMC(cores = 4)"
      ],
      "metadata": {
        "id": "wlyYuXM9xiA3"
      },
      "execution_count": null,
      "outputs": []
    },
    {
      "cell_type": "markdown",
      "source": [
        "# Lanzar en una API"
      ],
      "metadata": {
        "id": "nVrp7lqg6GR1"
      }
    },
    {
      "cell_type": "markdown",
      "source": [
        "Ejemplo de definición de API\n",
        "\n",
        "Mostrar el modelo de taquicardia trabajando en:\n",
        "\n",
        "http://162.214.187.236:8002/__docs__/"
      ],
      "metadata": {
        "id": "lI0PNqOz5I7-"
      }
    }
  ]
}