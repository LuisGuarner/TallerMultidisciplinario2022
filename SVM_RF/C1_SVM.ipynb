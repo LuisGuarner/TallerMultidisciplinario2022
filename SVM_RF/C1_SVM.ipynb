{
  "nbformat": 4,
  "nbformat_minor": 0,
  "metadata": {
    "colab": {
      "name": "C1 SVM.ipynb",
      "provenance": [],
      "collapsed_sections": []
    },
    "kernelspec": {
      "name": "ir",
      "display_name": "R"
    },
    "language_info": {
      "name": "R"
    }
  },
  "cells": [
    {
      "cell_type": "markdown",
      "source": [
        "#**Caso 1. Ejemplo de creación de un modelo con Máquina de Vectores de Soporte**"
      ],
      "metadata": {
        "id": "zRWdPE8UKKBv"
      }
    },
    {
      "cell_type": "markdown",
      "source": [
        "### Las máquinas de vector soporte o Support Vector Machines (SVM) son otro tipo de algoritmo de machine learning supervisado aplicable a problemas de regresión y clasificación, aunque se usa más comúnmente como modelo de clasificación."
      ],
      "metadata": {
        "id": "-oLXMTl78OlQ"
      }
    },
    {
      "cell_type": "markdown",
      "source": [
        "# Instalación de librerías"
      ],
      "metadata": {
        "id": "aOW7wD_SKXDv"
      }
    },
    {
      "cell_type": "markdown",
      "source": [
        "**Instalación de librerías**\n",
        "Paso 1. Revisar la versión de R instadala"
      ],
      "metadata": {
        "id": "6zLZU54kKfY8"
      }
    },
    {
      "cell_type": "code",
      "execution_count": null,
      "metadata": {
        "id": "wD_iP3Ij9-hQ"
      },
      "outputs": [],
      "source": [
        "R.version.string"
      ]
    },
    {
      "cell_type": "code",
      "source": [
        "install.packages(\"caret\")\n",
        "install.packages(\"dplyr\")\n",
        "install.packages(\"doMC\")\n",
        "install.packages(\"Boruta\")"
      ],
      "metadata": {
        "id": "bEcNg0Td-h-i"
      },
      "execution_count": null,
      "outputs": []
    },
    {
      "cell_type": "markdown",
      "source": [
        "Cargando las librerías a utilizar."
      ],
      "metadata": {
        "id": "-1GAvD5I8im-"
      }
    },
    {
      "cell_type": "code",
      "source": [
        "library(caret)\n",
        "library(doMC)\n",
        "library(dplyr)\n",
        "library(Boruta)"
      ],
      "metadata": {
        "id": "4_RiIX46QWHh"
      },
      "execution_count": null,
      "outputs": []
    },
    {
      "cell_type": "markdown",
      "source": [
        "# Carga de un archivo en formato CSV separado por comas para integrar el conjunto de datos a trabajar.\n",
        "Este ejemplo muestra como cargar un archivo csv de un directorio local."
      ],
      "metadata": {
        "id": "khczq5I6K43F"
      }
    },
    {
      "cell_type": "markdown",
      "source": [
        "Primero verificamos en que directorio nos encontramos:"
      ],
      "metadata": {
        "id": "9X5-nVgjK9AC"
      }
    },
    {
      "cell_type": "code",
      "source": [
        "#getwd()"
      ],
      "metadata": {
        "id": "1k41gQ33K6Bp"
      },
      "execution_count": null,
      "outputs": []
    },
    {
      "cell_type": "markdown",
      "source": [
        "Implementamos una semilla para que los datos sean siempre los mismos valores en nuestras pruebas"
      ],
      "metadata": {
        "id": "TnOR5TRbK_Yr"
      }
    },
    {
      "cell_type": "code",
      "source": [
        "set.seed(7)"
      ],
      "metadata": {
        "id": "DVEK4I82K_i5"
      },
      "execution_count": null,
      "outputs": []
    },
    {
      "cell_type": "code",
      "source": [
        "\n",
        "#datos <- read.csv(file = 'datav3.csv', sep = ',')\n",
        "inputData <- read.csv('sample_data/datav3.csv', sep = ',') \n",
        "head(inputData)"
      ],
      "metadata": {
        "id": "dU-0B34CLG6G"
      },
      "execution_count": null,
      "outputs": []
    },
    {
      "cell_type": "markdown",
      "source": [
        "Revisamos el contenido del dataset cargado"
      ],
      "metadata": {
        "id": "mVXEWkDDLGMA"
      }
    },
    {
      "cell_type": "code",
      "source": [
        "glimpse(inputData)"
      ],
      "metadata": {
        "id": "Bok88qDcLKSL"
      },
      "execution_count": null,
      "outputs": []
    },
    {
      "cell_type": "code",
      "source": [
        "# Tabla de frecuencias \n",
        "table(inputData$result)"
      ],
      "metadata": {
        "id": "f1RrHl4tF88w"
      },
      "execution_count": null,
      "outputs": []
    },
    {
      "cell_type": "code",
      "source": [
        "# Número de observaciones del set de datos\n",
        "nrow(inputData)"
      ],
      "metadata": {
        "id": "MObGGoneHNyv"
      },
      "execution_count": null,
      "outputs": []
    },
    {
      "cell_type": "code",
      "source": [
        "# Detección si hay alguna fila incompleta\n",
        "any(!complete.cases(inputData))"
      ],
      "metadata": {
        "id": "nqyjmN26HU81"
      },
      "execution_count": null,
      "outputs": []
    },
    {
      "cell_type": "markdown",
      "source": [
        "## Cambiando de tipo char a factor la clase que queremos clasificar.\n",
        "Factores\n",
        "\n",
        "Un factor es una variable categórica con un número finito de valores o niveles. En R los factores se utilizan habitualmente para realizar clasificaciones de los datos, estableciendo su pertenencia a los grupos o categorías determinados por los niveles del factor."
      ],
      "metadata": {
        "id": "31hWUw9gLOeY"
      }
    },
    {
      "cell_type": "code",
      "source": [
        "inputData$result = as.factor(inputData$result)"
      ],
      "metadata": {
        "id": "rFsVJmoXLRNW"
      },
      "execution_count": null,
      "outputs": []
    },
    {
      "cell_type": "code",
      "source": [
        "glimpse(inputData)"
      ],
      "metadata": {
        "id": "bFRK12B39hcu"
      },
      "execution_count": null,
      "outputs": []
    },
    {
      "cell_type": "code",
      "source": [
        "#Revisando la clase\n",
        "table(inputData$result)"
      ],
      "metadata": {
        "id": "2UDJYgerLR7K"
      },
      "execution_count": null,
      "outputs": []
    },
    {
      "cell_type": "code",
      "source": [
        "## Distribución de variables de clasificación\n",
        "ggplot(data = inputData, aes(x = result, y = ..count.., fill = result)) +\n",
        "  geom_bar() +\n",
        "  scale_fill_manual(values = c(\"gray40\", \"orangered2\")) +\n",
        "  labs(title = \"Clasificados con CVD\") +\n",
        "  theme_bw() +\n",
        "  theme(legend.position = \"bottom\")"
      ],
      "metadata": {
        "id": "PKD8uWf_FvXx"
      },
      "execution_count": null,
      "outputs": []
    },
    {
      "cell_type": "markdown",
      "source": [
        "# Buscando los mejores atributos con Boruta"
      ],
      "metadata": {
        "id": "PCDef-u4Lgai"
      }
    },
    {
      "cell_type": "markdown",
      "source": [
        "Boruta es un algoritmo envolvente de selección de características relevantes, capaz de trabajar con cualquier método de clasificación; por defecto, Boruta utiliza Random Forest. \n",
        "El método realiza una búsqueda descendente de características relevantes comparando la importancia de los atributos originales con la importancia alcanzable al azar, estimada mediante sus copias permutadas, y eliminando progresivamente las características irrelevantes para estabilizar esa prueba."
      ],
      "metadata": {
        "id": "4liC3bNhLlmB"
      }
    },
    {
      "cell_type": "code",
      "source": [
        "# Decidir si una variable es importante o no utilizando Boruta\n",
        "boruta_output <- Boruta(result ~ ., data=na.omit(inputData), doTrace=2, maxRuns=500)  # perform Boruta search\n",
        "names(boruta_output)"
      ],
      "metadata": {
        "id": "CHnTOabbLhqF"
      },
      "execution_count": null,
      "outputs": []
    },
    {
      "cell_type": "code",
      "source": [
        "# Obtener variables significativas, incluyendo las tentativas\n",
        "boruta_signif <- getSelectedAttributes(boruta_output, withTentative = TRUE)\n",
        "print(boruta_signif)  "
      ],
      "metadata": {
        "id": "wdNCZOLULrqi"
      },
      "execution_count": null,
      "outputs": []
    },
    {
      "cell_type": "code",
      "source": [
        "# Hacer un arreglo tentativo\n",
        "roughFixMod <- TentativeRoughFix(boruta_output)\n",
        "print(roughFixMod)\n",
        "attStats(boruta_output)\n",
        "boruta_signif <- getSelectedAttributes(roughFixMod)\n",
        "print(boruta_signif)\n"
      ],
      "metadata": {
        "id": "PNpvc3XeLsOu"
      },
      "execution_count": null,
      "outputs": []
    },
    {
      "cell_type": "code",
      "source": [
        "# Puntuación de la importancia de las variables\n",
        "imps <- attStats(roughFixMod)\n",
        "imps2 = imps[imps$decision != 'Rejected', c('meanImp', 'decision')]\n",
        "head(imps2[order(-imps2$meanImp), ])  # descending sort"
      ],
      "metadata": {
        "id": "GehpwPcpLvlE"
      },
      "execution_count": null,
      "outputs": []
    },
    {
      "cell_type": "code",
      "source": [
        "# Graficar la importancia de las variables\n",
        "plot(boruta_output, cex.axis=.7, las=2, xlab=\"\", main=\"Variable Importance\")  "
      ],
      "metadata": {
        "id": "CnFpE1UZLxri"
      },
      "execution_count": null,
      "outputs": []
    },
    {
      "cell_type": "markdown",
      "source": [
        "# Particionando datos para el modelo"
      ],
      "metadata": {
        "id": "QwT9mgGBL0qN"
      }
    },
    {
      "cell_type": "code",
      "source": [
        "set.seed(123)"
      ],
      "metadata": {
        "id": "b64C-qtHLyfb"
      },
      "execution_count": null,
      "outputs": []
    },
    {
      "cell_type": "markdown",
      "source": [
        "Se crea una serie de particiones de prueba/entrenamiento utilizando createDataPartition.\n",
        "Argumentos:\n",
        "\n",
        "\n",
        "*   y - Conjunto de datos\n",
        "*   p - Porcentaje de datos a utilizar\n",
        "*   list - lógico - los resultados deben estar en una lista (TRUE) o en una matriz \n",
        "*    times - El número de particiones a crear"
      ],
      "metadata": {
        "id": "4EskKxaI-hxg"
      }
    },
    {
      "cell_type": "code",
      "source": [
        "# Se crean los índices de las observaciones de entrenamiento\n",
        "train <- createDataPartition(y = inputData$result, p = 0.7, list = FALSE, times = 1)\n",
        "datos_train <- inputData[train, ]\n",
        "datos_test  <- inputData[-train, ]"
      ],
      "metadata": {
        "id": "S6_RVVHML5kb"
      },
      "execution_count": null,
      "outputs": []
    },
    {
      "cell_type": "code",
      "source": [
        "# Resumen del set de datos train\n",
        "glimpse(datos_train)"
      ],
      "metadata": {
        "id": "L0kCbPftL7S8"
      },
      "execution_count": null,
      "outputs": []
    },
    {
      "cell_type": "code",
      "source": [
        "# Resumen del set de datos train\n",
        "glimpse(datos_test)"
      ],
      "metadata": {
        "id": "8g33F_rv_U7E"
      },
      "execution_count": null,
      "outputs": []
    },
    {
      "cell_type": "markdown",
      "source": [
        "# **Creando SVM para un modelo de predicción de Taquicardia**"
      ],
      "metadata": {
        "id": "D_dYrOeYL99D"
      }
    },
    {
      "cell_type": "code",
      "source": [
        "library(doMC)\n",
        "registerDoMC(cores = 4)"
      ],
      "metadata": {
        "id": "_vs1-iCnMBht"
      },
      "execution_count": null,
      "outputs": []
    },
    {
      "cell_type": "code",
      "source": [
        "particiones  <- 10\n",
        "repeticiones <- 5"
      ],
      "metadata": {
        "id": "AeS8u2F4MH_2"
      },
      "execution_count": null,
      "outputs": []
    },
    {
      "cell_type": "markdown",
      "source": [
        "###  Valores del hiperparámetro C a evaluar y sigma"
      ],
      "metadata": {
        "id": "s8c6pTF1ApVA"
      }
    },
    {
      "cell_type": "code",
      "source": [
        "# Hiperparámetros\n",
        "hiperparametros <- expand.grid(sigma = c(0.001, 0.01, 0.1, 0.5, 1),\n",
        "                               C = c(1 , 20, 50, 100, 200, 500, 700))"
      ],
      "metadata": {
        "id": "-RlUnGV9MJ5u"
      },
      "execution_count": null,
      "outputs": []
    },
    {
      "cell_type": "code",
      "source": [
        "set.seed(123)\n",
        "seeds <- vector(mode = \"list\", length = (particiones * repeticiones) + 1)\n",
        "for (i in 1:(particiones * repeticiones)) {\n",
        "  seeds[[i]] <- sample.int(1000, nrow(hiperparametros))\n",
        "}\n",
        "seeds[[(particiones * repeticiones) + 1]] <- sample.int(1000, 1)"
      ],
      "metadata": {
        "id": "HHHHNAO1MNCi"
      },
      "execution_count": null,
      "outputs": []
    },
    {
      "cell_type": "markdown",
      "source": [
        "## Ajuste del modelo"
      ],
      "metadata": {
        "id": "ZftPf0SMAbYK"
      }
    },
    {
      "cell_type": "code",
      "source": [
        "control_train <- trainControl(method = \"repeatedcv\", number = particiones,\n",
        "                              repeats = repeticiones, seeds = seeds,\n",
        "                              returnResamp = \"all\", verboseIter = FALSE,\n",
        "                              classProbs = TRUE, allowParallel = TRUE)"
      ],
      "metadata": {
        "id": "EMqfe3hWMTMK"
      },
      "execution_count": null,
      "outputs": []
    },
    {
      "cell_type": "code",
      "source": [
        "set.seed(342)"
      ],
      "metadata": {
        "id": "q2dmnE6qMYvx"
      },
      "execution_count": null,
      "outputs": []
    },
    {
      "cell_type": "code",
      "source": [
        "install.packages(\"kernlab\")"
      ],
      "metadata": {
        "id": "rxLWKOstRnnX"
      },
      "execution_count": null,
      "outputs": []
    },
    {
      "cell_type": "markdown",
      "source": [
        "### Paquete caret\n",
        "\n",
        "\n",
        "SVM lineal: method = “svmLinear”\n",
        "\n",
        "SVM polinómico: method = “svmPoly”\n",
        "\n",
        "SVM radial: method = “svmRadial”\n",
        "\n",
        "Si no se especifica, la métrica para la evaluación es el Accuracy. Podría emplearse otra como por ejemplo “ROC”."
      ],
      "metadata": {
        "id": "rc6RQqU9APBI"
      }
    },
    {
      "cell_type": "code",
      "source": [
        "# # Entrenamiento del SVM con un kernel radial y optimización del hiperparámetro C y sigma\n",
        "svmT <- train(result ~ edad + calcio_en_sangre + taquicardia_sinusal_ecg,\n",
        "              data = datos_train,\n",
        "              method = \"svmRadial\",\n",
        "              tuneGrid = hiperparametros,\n",
        "              metric = \"Accuracy\",\n",
        "              trControl = control_train)"
      ],
      "metadata": {
        "id": "tabzynqFMagW"
      },
      "execution_count": null,
      "outputs": []
    },
    {
      "cell_type": "code",
      "source": [
        "# Resultado del entrenamiento\n",
        "svmT"
      ],
      "metadata": {
        "id": "2XsgYcqaMbJF"
      },
      "execution_count": null,
      "outputs": []
    },
    {
      "cell_type": "code",
      "source": [
        "# # Entrenamiento del SVM con un kernel lineal y optimización del hiperparámetro C y sigma\n",
        "svmT <- train(result ~ edad + calcio_en_sangre + taquicardia_sinusal_ecg,\n",
        "              data = datos_train,\n",
        "              method = \"svmRadial\",\n",
        "              tuneGrid = hiperparametros,\n",
        "              metric = \"Accuracy\",\n",
        "              preProc = c(\"center\", \"scale\"), #estandarizacion de los datos\n",
        "              trControl = control_train)"
      ],
      "metadata": {
        "id": "510gLOXaDgRf"
      },
      "execution_count": null,
      "outputs": []
    },
    {
      "cell_type": "code",
      "source": [
        "# Resultado del entrenamiento\n",
        "svmT"
      ],
      "metadata": {
        "id": "iSHLkzqJDxZy"
      },
      "execution_count": null,
      "outputs": []
    },
    {
      "cell_type": "code",
      "source": [
        "# Valores de validación (Accuracy y Kappa) obtenidos en cada partición y repetición.\n",
        "svmT$resample %>% head(10)\n",
        "summary(svmT$resample$Accuracy)"
      ],
      "metadata": {
        "id": "YaYmYB98J6Vd"
      },
      "execution_count": null,
      "outputs": []
    },
    {
      "cell_type": "code",
      "source": [
        "# Evolución del accuracy en funcion del valor de coste en validacion cruzada\n",
        "plot(svmT)"
      ],
      "metadata": {
        "id": "Uc2YFRdpD1Vy"
      },
      "execution_count": null,
      "outputs": []
    },
    {
      "cell_type": "code",
      "source": [
        "ggplot(data = svmT$resample,\n",
        "       aes(x = as.factor(C), y = Accuracy, color = as.factor(C))) +\n",
        "  geom_boxplot(outlier.shape = NA, alpha = 0.6) +\n",
        "  geom_jitter(width = 0.2, alpha = 0.6) +\n",
        "  # Línea horizontal en el accuracy basal\n",
        "  geom_hline(yintercept = 0.8, linetype = \"dashed\") +\n",
        "  labs(x = \"C\") +\n",
        "  theme_bw() + theme(legend.position = \"none\")"
      ],
      "metadata": {
        "id": "8PEqV6_CI_cz"
      },
      "execution_count": null,
      "outputs": []
    },
    {
      "cell_type": "code",
      "source": [
        "ggplot(svmT, highlight = TRUE) +\n",
        "  labs(title = \"Evolución del accuracy del modelo en función de C\") +\n",
        "  theme_bw()"
      ],
      "metadata": {
        "id": "0iHVhpJXJmjU"
      },
      "execution_count": null,
      "outputs": []
    },
    {
      "cell_type": "markdown",
      "source": [
        "# **Predicciones**"
      ],
      "metadata": {
        "id": "RGKXzlaGMc13"
      }
    },
    {
      "cell_type": "code",
      "source": [
        "p <- predict(svmT, datos_test)"
      ],
      "metadata": {
        "id": "35XOBjQdMfZZ"
      },
      "execution_count": null,
      "outputs": []
    },
    {
      "cell_type": "code",
      "source": [
        "predicciones_prob <- predict(svmT, newdata = datos_test, type = \"prob\")"
      ],
      "metadata": {
        "id": "OxAX0iSLMjo5"
      },
      "execution_count": null,
      "outputs": []
    },
    {
      "cell_type": "code",
      "source": [
        "predicciones_prob"
      ],
      "metadata": {
        "id": "lFqJwvBEMowh"
      },
      "execution_count": null,
      "outputs": []
    },
    {
      "cell_type": "code",
      "source": [
        "predicciones_raw <- predict(svmT, newdata = datos_test, type = \"raw\")"
      ],
      "metadata": {
        "id": "aHTvIXPmTAba"
      },
      "execution_count": null,
      "outputs": []
    },
    {
      "cell_type": "code",
      "source": [
        "predicciones_raw"
      ],
      "metadata": {
        "id": "uFg_o3K-TBqm"
      },
      "execution_count": null,
      "outputs": []
    },
    {
      "cell_type": "markdown",
      "source": [
        "## EVALUACIÓN DEL MODELO"
      ],
      "metadata": {
        "id": "3jWgCGmhEf3h"
      }
    },
    {
      "cell_type": "code",
      "source": [
        "###confusion Matrix\n",
        "confusionMatrix(predicciones_raw, datos_test$result)"
      ],
      "metadata": {
        "id": "3YWYHvrQMnCM"
      },
      "execution_count": null,
      "outputs": []
    },
    {
      "cell_type": "code",
      "source": [
        "# Calcular la exactitud del modelo\n",
        "porcentaje <- mean(p == datos_test$result)*100\n",
        "paste(\"Porcentaje de predicción SVM:\",round(porcentaje,2))"
      ],
      "metadata": {
        "id": "D5YE0YvoM03q"
      },
      "execution_count": null,
      "outputs": []
    },
    {
      "cell_type": "code",
      "source": [
        "# Error de test\n",
        "error_test <- mean(p != datos_test$result)\n",
        "paste(\"El error de test del modelo SVM:\", round(error_test*100, 2), \"%\")"
      ],
      "metadata": {
        "id": "309KV_SvM0-I"
      },
      "execution_count": null,
      "outputs": []
    },
    {
      "cell_type": "code",
      "source": [
        "#Salvando el modelo\n",
        "saveRDS(svmT,\"svmT.rds\")"
      ],
      "metadata": {
        "id": "0wZkjVPKNBTz"
      },
      "execution_count": null,
      "outputs": []
    },
    {
      "cell_type": "markdown",
      "source": [
        "# Lanzar en una API"
      ],
      "metadata": {
        "id": "Dd8BrnMLNGdn"
      }
    },
    {
      "cell_type": "markdown",
      "source": [
        "Ejemplo de definición de API\n",
        "\n",
        "Mostrar el modelo de taquicardia trabajando en:\n",
        "\n",
        "http://162.214.187.236:8002/__docs__/"
      ],
      "metadata": {
        "id": "QqntRudRNGg0"
      }
    }
  ]
}