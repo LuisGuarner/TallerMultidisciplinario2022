{
  "nbformat": 4,
  "nbformat_minor": 0,
  "metadata": {
    "colab": {
      "name": "C2 RandomForest.ipynb",
      "provenance": [],
      "collapsed_sections": []
    },
    "kernelspec": {
      "name": "ir",
      "display_name": "R"
    },
    "language_info": {
      "name": "R"
    }
  },
  "cells": [
    {
      "cell_type": "markdown",
      "source": [
        "#**Caso 2. Ejemplo de creación de un modelo con Random Forest**"
      ],
      "metadata": {
        "id": "QrVsHSLUW5Be"
      }
    },
    {
      "cell_type": "markdown",
      "source": [
        "# **Instalación de librerías**"
      ],
      "metadata": {
        "id": "fYRd_IenWuHg"
      }
    },
    {
      "cell_type": "markdown",
      "source": [
        "**Instalación de librerías**\n",
        "Paso 1. Revisar la versión de R instadala"
      ],
      "metadata": {
        "id": "t_rXHUlKKnaj"
      }
    },
    {
      "cell_type": "code",
      "execution_count": null,
      "metadata": {
        "id": "kT-X0hlKjNPT"
      },
      "outputs": [],
      "source": [
        "R.version.string"
      ]
    },
    {
      "cell_type": "code",
      "source": [
        "install.packages(\"caret\")\n",
        "install.packages(\"randomForest\")\n",
        "install.packages(\"dplyr\")\n",
        "install.packages(\"Boruta\")"
      ],
      "metadata": {
        "id": "rLUmSJR14eD3"
      },
      "execution_count": null,
      "outputs": []
    },
    {
      "cell_type": "markdown",
      "source": [
        "Cargando las librerías"
      ],
      "metadata": {
        "id": "RDuaUyLjK6X2"
      }
    },
    {
      "cell_type": "code",
      "source": [
        "library(caret)\n",
        "library(randomForest)\n",
        "library(dplyr)\n",
        "library(Boruta)"
      ],
      "metadata": {
        "id": "q4YJkfjWkCbk"
      },
      "execution_count": null,
      "outputs": []
    },
    {
      "cell_type": "markdown",
      "source": [
        "# Load Data From CSV\n",
        "Este ejemplo muestra como cargar un archivo csv de un directorio local."
      ],
      "metadata": {
        "id": "fpae1aCHT6lw"
      }
    },
    {
      "cell_type": "markdown",
      "source": [
        "Primero verificamos en que directorio nos encontramos:"
      ],
      "metadata": {
        "id": "bLei6nh_XvYS"
      }
    },
    {
      "cell_type": "code",
      "source": [
        "#getwd()"
      ],
      "metadata": {
        "id": "V4j_Xk51bskA"
      },
      "execution_count": null,
      "outputs": []
    },
    {
      "cell_type": "markdown",
      "source": [
        "Implementamos una semilla para que los datos sean siempre los mismos valores en nuestras pruebas"
      ],
      "metadata": {
        "id": "vyqcDsAv79JC"
      }
    },
    {
      "cell_type": "code",
      "source": [
        "set.seed(7)"
      ],
      "metadata": {
        "id": "NNYHlhbs8CFU"
      },
      "execution_count": null,
      "outputs": []
    },
    {
      "cell_type": "code",
      "source": [
        "\n",
        "#datos <- read.csv(file = 'datav3.csv', sep = ',')\n",
        "inputData <- read.csv('sample_data/datav3.csv', sep = ',') \n",
        "head(inputData)"
      ],
      "metadata": {
        "id": "uchmKH6ib4cB"
      },
      "execution_count": null,
      "outputs": []
    },
    {
      "cell_type": "markdown",
      "source": [
        "Revisamos el contenido del dataset cargado"
      ],
      "metadata": {
        "id": "q7MaqUNP8Ozi"
      }
    },
    {
      "cell_type": "code",
      "source": [
        "glimpse(inputData)"
      ],
      "metadata": {
        "id": "8dAkm_2K8Lsm"
      },
      "execution_count": null,
      "outputs": []
    },
    {
      "cell_type": "markdown",
      "source": [
        "Cambiando de tipo char a factor la clase que queremos clasificar."
      ],
      "metadata": {
        "id": "wWRZPtXj8e0R"
      }
    },
    {
      "cell_type": "code",
      "source": [
        "inputData$result = as.factor(inputData$result)"
      ],
      "metadata": {
        "id": "18IMMa-_8ifM"
      },
      "execution_count": null,
      "outputs": []
    },
    {
      "cell_type": "code",
      "source": [
        "#Revisando la clase\n",
        "table(inputData$result)"
      ],
      "metadata": {
        "id": "CU649yW08nAq"
      },
      "execution_count": null,
      "outputs": []
    },
    {
      "cell_type": "markdown",
      "source": [
        "# Buscando los mejores atributos con Boruta\n"
      ],
      "metadata": {
        "id": "14pXk_tr8tJt"
      }
    },
    {
      "cell_type": "code",
      "source": [
        "set.seed(123)"
      ],
      "metadata": {
        "id": "9mQvbd7E80I2"
      },
      "execution_count": null,
      "outputs": []
    },
    {
      "cell_type": "markdown",
      "source": [
        "Boruta es un algoritmo envolvente de selección de características relevantes, capaz de trabajar con cualquier método de clasificación; por defecto, Boruta utiliza Random Forest. \n",
        "El método realiza una búsqueda descendente de características relevantes comparando la importancia de los atributos originales con la importancia alcanzable al azar, estimada mediante sus copias permutadas, y eliminando progresivamente las características irrelevantes para estabilizar esa prueba.\n"
      ],
      "metadata": {
        "id": "mEDdDn_TH6lw"
      }
    },
    {
      "cell_type": "code",
      "source": [
        "# Decidir si una variable es importante o no utilizando Boruta\n",
        "boruta_output <- Boruta(result ~ ., data=na.omit(inputData), doTrace=2, maxRuns=500)  # perform Boruta search\n",
        "names(boruta_output)"
      ],
      "metadata": {
        "id": "sYw15MeU9Buw"
      },
      "execution_count": null,
      "outputs": []
    },
    {
      "cell_type": "code",
      "source": [
        "# Obtener variables significativas, incluyendo las tentativas\n",
        "boruta_signif <- getSelectedAttributes(boruta_output, withTentative = TRUE)\n",
        "print(boruta_signif)  "
      ],
      "metadata": {
        "id": "YXgxxZSy9KNY"
      },
      "execution_count": null,
      "outputs": []
    },
    {
      "cell_type": "code",
      "source": [
        "# Hacer un arreglo tentativo\n",
        "roughFixMod <- TentativeRoughFix(boruta_output)\n",
        "print(roughFixMod)\n",
        "attStats(boruta_output)\n",
        "boruta_signif <- getSelectedAttributes(roughFixMod)\n",
        "print(boruta_signif)\n"
      ],
      "metadata": {
        "id": "o4MJuYwJ9LlZ"
      },
      "execution_count": null,
      "outputs": []
    },
    {
      "cell_type": "code",
      "source": [
        "# Puntuación de la importancia de las variables\n",
        "imps <- attStats(roughFixMod)\n",
        "imps2 = imps[imps$decision != 'Rejected', c('meanImp', 'decision')]\n",
        "head(imps2[order(-imps2$meanImp), ])  # descending sort"
      ],
      "metadata": {
        "id": "47q39YFd9QLj"
      },
      "execution_count": null,
      "outputs": []
    },
    {
      "cell_type": "code",
      "source": [
        "# Graficar la importancia de las variables\n",
        "plot(boruta_output, cex.axis=.7, las=2, xlab=\"\", main=\"Variable Importance\")  "
      ],
      "metadata": {
        "id": "YIZ_fWuG9Uee"
      },
      "execution_count": null,
      "outputs": []
    },
    {
      "cell_type": "markdown",
      "source": [
        "# Particionando datos para el modelo"
      ],
      "metadata": {
        "id": "9gTgMmUX9XBz"
      }
    },
    {
      "cell_type": "code",
      "source": [
        "set.seed(123)"
      ],
      "metadata": {
        "id": "NkRr8Utt9aw5"
      },
      "execution_count": null,
      "outputs": []
    },
    {
      "cell_type": "code",
      "source": [
        "# Se crean los índices de las observaciones de entrenamiento\n",
        "train <- createDataPartition(y = inputData$result, p = 0.7, list = FALSE, times = 1)\n",
        "datos_train <- inputData[train, ]\n",
        "datos_test  <- inputData[-train, ]"
      ],
      "metadata": {
        "id": "oiQeuu_b9dH7"
      },
      "execution_count": null,
      "outputs": []
    },
    {
      "cell_type": "code",
      "source": [
        "# Resumen del set de datos train\n",
        "glimpse(datos_train)"
      ],
      "metadata": {
        "id": "kQuwLJ_59e51"
      },
      "execution_count": null,
      "outputs": []
    },
    {
      "cell_type": "markdown",
      "source": [
        "# Creando RandomForest para un modelo de predicción de Taquicardia\n"
      ],
      "metadata": {
        "id": "svV5VT5e9jy5"
      }
    },
    {
      "cell_type": "code",
      "source": [
        "#tune mtry\n",
        "t <- tuneRF(datos_train[,-25], datos_train[,25],\n",
        "            stepFactor = 0.5,\n",
        "            plot = TRUE,\n",
        "            ntreeTry = 400,\n",
        "            trace =  TRUE,\n",
        "            improve = 0.05)"
      ],
      "metadata": {
        "id": "C_4K-_pd9jNB"
      },
      "execution_count": null,
      "outputs": []
    },
    {
      "cell_type": "code",
      "source": [
        "rfT <- randomForest(result ~ edad + calcio_en_sangre + taquicardia_sinusal_ecg,\n",
        "                    data=datos_train,\n",
        "                    ntree = 400, #Número de árboles a crear. No debe establecerse un número demasiado pequeño, para asegurar que cada fila de entrada se predice al menos un par de veces.\n",
        "                    mtry = 2, #Número de variables muestreadas aleatoriamente como candidatas en cada división.\n",
        "                    importance = TRUE, #¿Debe evaluarse la importancia de los predictores?\n",
        "                    proximity = TRUE) #¿Se debe calcular la medida de proximidad entre las filas?"
      ],
      "metadata": {
        "id": "NTRoUHU_9tlL"
      },
      "execution_count": null,
      "outputs": []
    },
    {
      "cell_type": "code",
      "source": [
        "rfT"
      ],
      "metadata": {
        "id": "V5A8OCyq9vuK"
      },
      "execution_count": null,
      "outputs": []
    },
    {
      "cell_type": "code",
      "source": [
        "# Importancia de las variables\n",
        "rfT$importance"
      ],
      "metadata": {
        "id": "ji23pkMXOn5Y"
      },
      "execution_count": null,
      "outputs": []
    },
    {
      "cell_type": "code",
      "source": [
        "plot(rfT)"
      ],
      "metadata": {
        "id": "_X8DB4tePUOc"
      },
      "execution_count": null,
      "outputs": []
    },
    {
      "cell_type": "markdown",
      "source": [
        "# Realizando la predicción de datos"
      ],
      "metadata": {
        "id": "7BZVGv4E9zGn"
      }
    },
    {
      "cell_type": "code",
      "source": [
        "p <- predict(rfT, datos_test)"
      ],
      "metadata": {
        "id": "HReoUis_9xVW"
      },
      "execution_count": null,
      "outputs": []
    },
    {
      "cell_type": "code",
      "source": [
        "confusionMatrix(p, datos_test$result)"
      ],
      "metadata": {
        "id": "fIIY6mme94yr"
      },
      "execution_count": null,
      "outputs": []
    },
    {
      "cell_type": "code",
      "source": [
        "# Compute model accuracy rate\n",
        "porcentaje <- mean(p == datos_test$result)*100\n",
        "paste(\"Porcentaje de predicción RF:\",round(porcentaje,2))"
      ],
      "metadata": {
        "id": "WG9BJmHc99wB"
      },
      "execution_count": null,
      "outputs": []
    },
    {
      "cell_type": "code",
      "source": [
        "# Error de test\n",
        "error_test <- mean(p != datos_test$result)\n",
        "paste(\"El error de test del modelo RF:\", round(error_test*100, 2), \"%\")\n"
      ],
      "metadata": {
        "id": "Pwo5WDxk9-qp"
      },
      "execution_count": null,
      "outputs": []
    },
    {
      "cell_type": "code",
      "source": [
        "#Salvando el modelo\n",
        "saveRDS(rfT,\"rfT.rds\")"
      ],
      "metadata": {
        "id": "cJSJwY-eUPXQ"
      },
      "execution_count": null,
      "outputs": []
    },
    {
      "cell_type": "markdown",
      "source": [
        "# Lanzar en una API"
      ],
      "metadata": {
        "id": "nVrp7lqg6GR1"
      }
    },
    {
      "cell_type": "markdown",
      "source": [
        "Ejemplo de definición de API\n",
        "\n",
        "Mostrar el modelo de taquicardia trabajando en:\n",
        "\n",
        "http://162.214.187.236:8002/__docs__/"
      ],
      "metadata": {
        "id": "lI0PNqOz5I7-"
      }
    }
  ]
}