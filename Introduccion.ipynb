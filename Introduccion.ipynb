{
  "nbformat": 4,
  "nbformat_minor": 0,
  "metadata": {
    "colab": {
      "name": "Introduccion.ipynb",
      "provenance": [],
      "collapsed_sections": []
    },
    "kernelspec": {
      "name": "ir",
      "display_name": "R"
    },
    "language_info": {
      "name": "R"
    }
  },
  "cells": [
    {
      "cell_type": "markdown",
      "source": [
        "#**Ejemplo de código en R**"
      ],
      "metadata": {
        "id": "QrVsHSLUW5Be"
      }
    },
    {
      "cell_type": "markdown",
      "source": [
        "# **Instalación de librerías**"
      ],
      "metadata": {
        "id": "fYRd_IenWuHg"
      }
    },
    {
      "cell_type": "markdown",
      "source": [
        "**Instalación de librerías**\n",
        "Paso 1. Revisar la versión de R instadala"
      ],
      "metadata": {
        "id": "t_rXHUlKKnaj"
      }
    },
    {
      "cell_type": "code",
      "execution_count": null,
      "metadata": {
        "id": "kT-X0hlKjNPT"
      },
      "outputs": [],
      "source": [
        "R.version.string"
      ]
    },
    {
      "cell_type": "markdown",
      "source": [
        "Revisión de librerías instaladas"
      ],
      "metadata": {
        "id": "NVF9M4QEKCPH"
      }
    },
    {
      "cell_type": "code",
      "source": [
        "print(installed.packages())"
      ],
      "metadata": {
        "id": "edJ-F_hDKFGT"
      },
      "execution_count": null,
      "outputs": []
    },
    {
      "cell_type": "markdown",
      "source": [
        "# Ejemplo de como instalar una librería en el entorno de R"
      ],
      "metadata": {
        "id": "yE9apBjU4fM_"
      }
    },
    {
      "cell_type": "code",
      "source": [
        "\n",
        "install.packages(\"ggplot2\")\n"
      ],
      "metadata": {
        "id": "rLUmSJR14eD3"
      },
      "execution_count": null,
      "outputs": []
    },
    {
      "cell_type": "markdown",
      "source": [
        "# Cargando las librerías a utilizar"
      ],
      "metadata": {
        "id": "RDuaUyLjK6X2"
      }
    },
    {
      "cell_type": "code",
      "source": [
        "\n",
        "library(ggplot2)\n",
        "\n",
        "\n"
      ],
      "metadata": {
        "id": "q4YJkfjWkCbk"
      },
      "execution_count": null,
      "outputs": []
    },
    {
      "cell_type": "code",
      "source": [
        "#Ejemplo\n",
        "#Boxplot\n",
        "ggplot(data=mpg)+\n",
        "  geom_boxplot(mapping = aes(x=drv,y=cty),\n",
        "               color=\"blue\",\n",
        "               fill=\"red\")"
      ],
      "metadata": {
        "id": "os_52oIy52Me"
      },
      "execution_count": null,
      "outputs": []
    },
    {
      "cell_type": "markdown",
      "source": [
        "# Load Data From CSV\n",
        "Este ejemplo muestra como cargar un archivo csv de un directorio local."
      ],
      "metadata": {
        "id": "fpae1aCHT6lw"
      }
    },
    {
      "cell_type": "markdown",
      "source": [
        "Primero verificamos en que directorio nos encontramos:"
      ],
      "metadata": {
        "id": "bLei6nh_XvYS"
      }
    },
    {
      "cell_type": "code",
      "source": [
        "getwd()"
      ],
      "metadata": {
        "id": "V4j_Xk51bskA"
      },
      "execution_count": null,
      "outputs": []
    },
    {
      "cell_type": "code",
      "source": [
        "\n",
        "#datos <- read.csv(file = 'datav3.csv', sep = ',')\n",
        "datos <- read.csv('sample_data/datav3.csv') \n"
      ],
      "metadata": {
        "id": "uchmKH6ib4cB"
      },
      "execution_count": null,
      "outputs": []
    },
    {
      "cell_type": "markdown",
      "source": [
        "# Revisando el conjunto de datos"
      ],
      "metadata": {
        "id": "Dyrn70S7FNVa"
      }
    },
    {
      "cell_type": "code",
      "source": [
        "head(datos)"
      ],
      "metadata": {
        "id": "7c4KNIqoFQm1"
      },
      "execution_count": null,
      "outputs": []
    },
    {
      "cell_type": "markdown",
      "source": [
        "# **Creando semillas**"
      ],
      "metadata": {
        "id": "Q3Apz-faWu1L"
      }
    },
    {
      "cell_type": "code",
      "source": [
        "\n",
        "set.seed(123)\n"
      ],
      "metadata": {
        "id": "0EiE9bujvFv4"
      },
      "execution_count": null,
      "outputs": []
    },
    {
      "cell_type": "markdown",
      "source": [
        "# Paralelización de procesos"
      ],
      "metadata": {
        "id": "dOVX1QqMxfSW"
      }
    },
    {
      "cell_type": "code",
      "source": [
        "# PARALELIZACIÓN DE PROCESO\n",
        "#===============================================================================\n",
        "\n",
        "registerDoMC(cores = 4)"
      ],
      "metadata": {
        "id": "wlyYuXM9xiA3"
      },
      "execution_count": null,
      "outputs": []
    },
    {
      "cell_type": "markdown",
      "source": [
        "# Lanzar en una API"
      ],
      "metadata": {
        "id": "nVrp7lqg6GR1"
      }
    },
    {
      "cell_type": "markdown",
      "source": [
        "Ejemplo de definición de API\n",
        "\n",
        "Mostrar el modelo de taquicardia trabajando en:\n",
        "\n",
        "http://162.214.187.236:8002/__docs__/"
      ],
      "metadata": {
        "id": "lI0PNqOz5I7-"
      }
    }
  ]
}