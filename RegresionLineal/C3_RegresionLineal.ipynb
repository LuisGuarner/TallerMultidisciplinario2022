{
  "nbformat": 4,
  "nbformat_minor": 0,
  "metadata": {
    "colab": {
      "name": "C3 RegresionLineal.ipynb",
      "provenance": [],
      "collapsed_sections": []
    },
    "kernelspec": {
      "name": "ir",
      "display_name": "R"
    },
    "language_info": {
      "name": "R"
    }
  },
  "cells": [
    {
      "cell_type": "markdown",
      "source": [
        "#**Caso 1. Ejemplo de creación de un modelo de predicción con Regresión Lineal**"
      ],
      "metadata": {
        "id": "Pf7bUIZvI36U"
      }
    },
    {
      "cell_type": "markdown",
      "source": [
        "# **Instalación de librerías**"
      ],
      "metadata": {
        "id": "WAQvXopZI8Mc"
      }
    },
    {
      "cell_type": "code",
      "source": [
        "install.packages(\"caTools\")\n",
        "install.packages(\"ggplot2\")\n",
        "install.packages(\"dplyr\")\n"
      ],
      "metadata": {
        "id": "zoP94hJj8ZST"
      },
      "execution_count": null,
      "outputs": []
    },
    {
      "cell_type": "markdown",
      "source": [
        "Cargando las librerías"
      ],
      "metadata": {
        "id": "yTnN1kJnJC80"
      }
    },
    {
      "cell_type": "code",
      "execution_count": null,
      "metadata": {
        "id": "aoRXZh_16tyI"
      },
      "outputs": [],
      "source": [
        "library(caTools)\n",
        "library(ggplot2)\n",
        "library(dplyr)"
      ]
    },
    {
      "cell_type": "markdown",
      "source": [
        "Cargand los datos del conjuunto de datos en archivo CSV"
      ],
      "metadata": {
        "id": "83tLm3hlJEz7"
      }
    },
    {
      "cell_type": "code",
      "source": [
        "#Cargando los datos\n",
        "datos <- read.csv(file = 'sample_data/datasetCholesterol.csv', sep = ',') "
      ],
      "metadata": {
        "id": "I3JFHTfX7fLp"
      },
      "execution_count": null,
      "outputs": []
    },
    {
      "cell_type": "markdown",
      "source": [
        "Revisando el conjunto de datos para identificar los tipos de datos existentes"
      ],
      "metadata": {
        "id": "ZiQVYpo8JJRP"
      }
    },
    {
      "cell_type": "code",
      "source": [
        "# Resumen del set de datos\n",
        "glimpse(datos)"
      ],
      "metadata": {
        "id": "8mnBA-CY7hFD"
      },
      "execution_count": null,
      "outputs": []
    },
    {
      "cell_type": "code",
      "source": [
        "#Cambiando de tipo char a factor la clase\n",
        "datos$edad = as.integer(datos$edad)\n"
      ],
      "metadata": {
        "id": "dJoy4yoT7ido"
      },
      "execution_count": null,
      "outputs": []
    },
    {
      "cell_type": "code",
      "source": [
        "datos$colesterol = as.double(datos$colesterol)\n"
      ],
      "metadata": {
        "id": "X67iH283931k"
      },
      "execution_count": null,
      "outputs": []
    },
    {
      "cell_type": "code",
      "source": [
        "datos$edad\n"
      ],
      "metadata": {
        "id": "uHVsRELu954O"
      },
      "execution_count": null,
      "outputs": []
    },
    {
      "cell_type": "code",
      "source": [
        "datos$colesterol"
      ],
      "metadata": {
        "id": "W3HYjYRa98es"
      },
      "execution_count": null,
      "outputs": []
    },
    {
      "cell_type": "code",
      "source": [
        "#Revisando la clase\n",
        "glimpse(datos)"
      ],
      "metadata": {
        "id": "l4O7PP__7kIF"
      },
      "execution_count": null,
      "outputs": []
    },
    {
      "cell_type": "code",
      "source": [
        "#Graficando el dataset\n",
        "theme_set(theme_classic())\n",
        "  \n",
        "ggplot(datos, aes(x=edad, y=colesterol)) + \n",
        "  geom_point(col=\"tomato3\", size=3) + #Draw points\n",
        "  geom_segment(aes(x=edad,\n",
        "                   xend=edad,\n",
        "                   y=min(colesterol),\n",
        "                   yend=max(colesterol)),\n",
        "               linetype=\"dashed\",\n",
        "               size=0.1)+  #Draw dashed lines\n",
        "  labs(title=\"Colesterol por Edad\",\n",
        "       subtitle=\"Edad vs Colesterol\",\n",
        "       caption = \"source: Dataset\")+\n",
        "  coord_flip()"
      ],
      "metadata": {
        "id": "IA0yiU5U7nql"
      },
      "execution_count": null,
      "outputs": []
    },
    {
      "cell_type": "markdown",
      "source": [
        "# **Creando el conjunto de datos train and test con split**"
      ],
      "metadata": {
        "id": "MHINMu51JQqH"
      }
    },
    {
      "cell_type": "code",
      "source": [
        "#Separando el train y test\n",
        "split = sample.split(datos$colesterol, SplitRatio = 0.7)\n",
        "nltrain = subset(datos, split == TRUE)\n",
        "nltest = subset(datos, split == FALSE)"
      ],
      "metadata": {
        "id": "xi0k8zPG7tQR"
      },
      "execution_count": null,
      "outputs": []
    },
    {
      "cell_type": "code",
      "source": [
        "ggplot() + geom_point(data = nltrain, aes(x = edad, y = colesterol), size = 3, col=\"tomato2\") + \n",
        "  xlab(\"Edad\") + \n",
        "  ylab(\"Colesterol\") + \n",
        "  labs(title=\"Colesterol por Edad\",\n",
        "       caption = \"source: Dataset\")"
      ],
      "metadata": {
        "id": "jFGNML-K7qSg"
      },
      "execution_count": null,
      "outputs": []
    },
    {
      "cell_type": "markdown",
      "source": [
        "# **Creando el modelo de regresión**"
      ],
      "metadata": {
        "id": "gjwIzTFqJiGU"
      }
    },
    {
      "cell_type": "code",
      "source": [
        "#Creando modelo\n",
        "set.seed(1234)\n",
        "modeloLR <- lm(colesterol ~ edad, data = nltrain)"
      ],
      "metadata": {
        "id": "rVEj-UPk7xha"
      },
      "execution_count": null,
      "outputs": []
    },
    {
      "cell_type": "markdown",
      "source": [
        "En la información devuelta por el summary se observa que el p-value del estadístico F es muy pequeño, indicando que al menos uno de los predictores del modelo está significativamente relacionado con la variable respuesta."
      ],
      "metadata": {
        "id": "ivROIGNGDTeL"
      }
    },
    {
      "cell_type": "code",
      "source": [
        "summary(modeloLR)"
      ],
      "metadata": {
        "id": "fcvYn6EI74Zw"
      },
      "execution_count": null,
      "outputs": []
    },
    {
      "cell_type": "code",
      "source": [
        "#Predicciones para el conjunto de entrenamiento\n",
        "y_predict <- predict(modeloLR, nltrain)\n",
        "y_predict"
      ],
      "metadata": {
        "id": "t2-v3qqN76uc"
      },
      "execution_count": null,
      "outputs": []
    },
    {
      "cell_type": "code",
      "source": [
        "ggplot() + geom_point(data = nltrain, aes(x = edad, y = colesterol), size = 0.9) + \n",
        "  geom_line(aes( x = nltrain$edad, y = y_predict), color = \"red\") +\n",
        "  xlab(\"Edad\") + \n",
        "  ylab(\"Colesterol\") + \n",
        "  ggtitle(\"Curva de Ajuste sobre Conjunto de Entrenamiento (nltrain)\")"
      ],
      "metadata": {
        "id": "xK_ba3JC78vN"
      },
      "execution_count": null,
      "outputs": []
    },
    {
      "cell_type": "code",
      "source": [
        "##Prediciendo  colesterol de un rango de edad\n",
        "rango.edades <- data.frame(edad = seq(20, 60))"
      ],
      "metadata": {
        "id": "O1fXR8JW8FqX"
      },
      "execution_count": null,
      "outputs": []
    },
    {
      "cell_type": "code",
      "source": [
        "predict_value <- predict(modeloLR, rango.edades)\n",
        "glimpse(predict_value)"
      ],
      "metadata": {
        "id": "rhE6eaKK8IOX"
      },
      "execution_count": null,
      "outputs": []
    },
    {
      "cell_type": "code",
      "source": [
        "df_predic=as.data.frame(predict_value)\n",
        "df_predic"
      ],
      "metadata": {
        "id": "XUgucL-z8MHm"
      },
      "execution_count": null,
      "outputs": []
    },
    {
      "cell_type": "code",
      "source": [
        "ggplot() + geom_line(aes( x = df_predic$predict_value, y = df_predic$predict_value), color = \"red\") +\n",
        "  xlab(\"Edad\") + \n",
        "  ylab(\"Colesterol\") + \n",
        "  ggtitle(\"Curva de Ajuste sobre Conjunto de Entrenamiento (nltrain)\")"
      ],
      "metadata": {
        "id": "u_pyotQf8PUl"
      },
      "execution_count": null,
      "outputs": []
    },
    {
      "cell_type": "code",
      "source": [
        "predict_value <- predict(modeloLR, data.frame(edad = c(60)))\n",
        "predict_value"
      ],
      "metadata": {
        "id": "j_gw9YRD8RZ2"
      },
      "execution_count": null,
      "outputs": []
    },
    {
      "cell_type": "code",
      "source": [
        "#Salvando el modelo\n",
        "saveRDS(modeloLR,\"cholesterolLR.rds\")"
      ],
      "metadata": {
        "id": "lcrmrp_K8TbZ"
      },
      "execution_count": null,
      "outputs": []
    },
    {
      "cell_type": "code",
      "source": [
        "write.csv(df_predic,'prediccion20_60.csv')"
      ],
      "metadata": {
        "id": "Z3moy-lV8NIV"
      },
      "execution_count": null,
      "outputs": []
    }
  ]
}